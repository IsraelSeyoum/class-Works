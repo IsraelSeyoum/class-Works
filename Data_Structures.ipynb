{
 "cells": [
  {
   "cell_type": "code",
   "execution_count": 23,
   "metadata": {},
   "outputs": [
    {
     "name": "stdout",
     "output_type": "stream",
     "text": [
      "Apple\n",
      "Grapes\n",
      "['Apple', 'Banana', 'Grapes']\n"
     ]
    }
   ],
   "source": [
    "friuts = [\"Apple\",\"Banana\",\"Grapes\"]\n",
    "\n",
    "print(friuts[0]);\n",
    "print(friuts[-1]);\n",
    "print(friuts);"
   ]
  },
  {
   "cell_type": "code",
   "execution_count": 24,
   "metadata": {},
   "outputs": [
    {
     "name": "stdout",
     "output_type": "stream",
     "text": [
      "['Apple', 'Banana', 'Grapes', 'Avocado']\n",
      "['Apple', 'Cherry', 'Banana', 'Grapes', 'Avocado']\n"
     ]
    }
   ],
   "source": [
    "\n",
    "friuts.append(\"Avocado\");\n",
    "print(friuts);\n",
    "\n",
    "friuts.insert(1,\"Cherry\");\n",
    "print(friuts);"
   ]
  },
  {
   "cell_type": "code",
   "execution_count": 25,
   "metadata": {},
   "outputs": [
    {
     "name": "stdout",
     "output_type": "stream",
     "text": [
      "['Apple', 'Cherry', 'Grapes', 'Avocado']\n",
      "Deleted the last friut: Avocado\n",
      "['Apple', 'Cherry', 'Grapes']\n"
     ]
    }
   ],
   "source": [
    "# Removing elements\n",
    "friuts.remove(\"Banana\") # Removes \"banana\"\n",
    "print(friuts)\n",
    "last_fruit = friuts.pop() # Removes and returns the last element\n",
    "print(f\"Deleted the last friut: {last_fruit} using pop function\")\n",
    "print(friuts)"
   ]
  }
 ],
 "metadata": {
  "kernelspec": {
   "display_name": "base",
   "language": "python",
   "name": "python3"
  },
  "language_info": {
   "codemirror_mode": {
    "name": "ipython",
    "version": 3
   },
   "file_extension": ".py",
   "mimetype": "text/x-python",
   "name": "python",
   "nbconvert_exporter": "python",
   "pygments_lexer": "ipython3",
   "version": "3.9.12"
  }
 },
 "nbformat": 4,
 "nbformat_minor": 2
}
